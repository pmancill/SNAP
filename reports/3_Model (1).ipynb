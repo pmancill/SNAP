{
 "cells": [
  {
   "cell_type": "code",
   "execution_count": 63,
   "id": "a4e6636a",
   "metadata": {},
   "outputs": [
    {
     "name": "stdout",
     "output_type": "stream",
     "text": [
      "The autoreload extension is already loaded. To reload it, use:\n",
      "  %reload_ext autoreload\n"
     ]
    }
   ],
   "source": [
    "import pandas as pd\n",
    "import numpy as np\n",
    "import matplotlib.pyplot as plt\n",
    "import seaborn as sns\n",
    "from pylab import rcParams\n",
    "random_state = 42\n",
    "import autoreload\n",
    "%load_ext autoreload\n",
    "%autoreload 2\n",
    "\n",
    "\n",
    "import pickle\n",
    "\n",
    "from sklearn.model_selection import train_test_split,cross_val_score,GridSearchCV\n",
    "from sklearn.metrics import accuracy_score,classification_report,confusion_matrix,recall_score,precision_score\n",
    "from treeinterpreter import treeinterpreter as ti\n",
    "from sklearn.preprocessing import StandardScaler\n",
    "from sklearn.decomposition import PCA\n",
    "\n",
    "from sklearn.linear_model import LogisticRegression\n",
    "from sklearn.tree import DecisionTreeClassifier,ExtraTreeClassifier\n",
    "from sklearn.ensemble import RandomForestClassifier,GradientBoostingClassifier,AdaBoostClassifier,BaggingClassifier, VotingClassifier\n",
    "from sklearn.svm import SVC\n",
    "from sklearn.naive_bayes import GaussianNB"
   ]
  },
  {
   "cell_type": "code",
   "execution_count": 64,
   "id": "19d7d332",
   "metadata": {},
   "outputs": [],
   "source": [
    "df = pd.read_csv(\"./data/final.csv\")"
   ]
  },
  {
   "cell_type": "code",
   "execution_count": 65,
   "id": "4f86f9f7",
   "metadata": {},
   "outputs": [
    {
     "name": "stdout",
     "output_type": "stream",
     "text": [
      "<class 'pandas.core.frame.DataFrame'>\n",
      "RangeIndex: 3904 entries, 0 to 3903\n",
      "Data columns (total 33 columns):\n",
      " #   Column    Non-Null Count  Dtype  \n",
      "---  ------    --------------  -----  \n",
      " 0   FSSLTDE2  3904 non-null   float64\n",
      " 1   FSSTDDE2  3904 non-null   float64\n",
      " 2   FSERNDED  3904 non-null   float64\n",
      " 3   RAWNET    3904 non-null   float64\n",
      " 4   FSASSET   3904 non-null   float64\n",
      " 5   TANF_IND  3904 non-null   float64\n",
      " 6   RAWERND   3904 non-null   float64\n",
      " 7   REALPROP  3904 non-null   float64\n",
      " 8   FSOTHUN   3904 non-null   float64\n",
      " 9   FSNONCIT  3904 non-null   float64\n",
      " 10  CERTHHSZ  3904 non-null   float64\n",
      " 11  FSSLTDED  3904 non-null   float64\n",
      " 12  FSTANF    3904 non-null   float64\n",
      " 13  FSTOTDED  3904 non-null   float64\n",
      " 14  FSNK0T4   3904 non-null   float64\n",
      " 15  FSCSEXP   3904 non-null   float64\n",
      " 16  FSNETINC  3904 non-null   float64\n",
      " 17  FSWAGES   3904 non-null   float64\n",
      " 18  FSERNDE2  3904 non-null   float64\n",
      " 19  TPOV      3904 non-null   float64\n",
      " 20  FSNELDER  3904 non-null   float64\n",
      " 21  WRK_POOR  3904 non-null   float64\n",
      " 22  FSUNEARN  3904 non-null   float64\n",
      " 23  FSUSIZE   3904 non-null   float64\n",
      " 24  FSDIS     3904 non-null   float64\n",
      " 25  FSGA      3904 non-null   float64\n",
      " 26  SHELDED   3904 non-null   float64\n",
      " 27  FSSSI     3904 non-null   float64\n",
      " 28  FSEARN    3904 non-null   float64\n",
      " 29  LIQRESOR  3904 non-null   float64\n",
      " 30  CAT_ELIG  3904 non-null   float64\n",
      " 31  VEHICLEA  3904 non-null   float64\n",
      " 32  FSVEHAST  3904 non-null   float64\n",
      "dtypes: float64(33)\n",
      "memory usage: 1006.6 KB\n"
     ]
    }
   ],
   "source": [
    "df.info()"
   ]
  },
  {
   "cell_type": "code",
   "execution_count": 66,
   "id": "7ac72c19",
   "metadata": {},
   "outputs": [],
   "source": [
    "X = df.drop(columns = ['CAT_ELIG'])\n",
    "y = df['CAT_ELIG']"
   ]
  },
  {
   "cell_type": "code",
   "execution_count": 67,
   "id": "8480a8ad",
   "metadata": {},
   "outputs": [
    {
     "data": {
      "text/plain": [
       "CAT_ELIG\n",
       "1.0    0.625512\n",
       "2.0    0.374488\n",
       "Name: proportion, dtype: float64"
      ]
     },
     "execution_count": 67,
     "metadata": {},
     "output_type": "execute_result"
    }
   ],
   "source": [
    "#baseline, NULL Model\n",
    "y.value_counts(normalize=True)"
   ]
  },
  {
   "cell_type": "code",
   "execution_count": 68,
   "id": "c8022f44",
   "metadata": {},
   "outputs": [],
   "source": [
    "X_train, X_test, y_train, y_test = train_test_split(X,y,test_size=.3,random_state=random_state)"
   ]
  },
  {
   "cell_type": "code",
   "execution_count": 69,
   "id": "b99a7d1c",
   "metadata": {},
   "outputs": [],
   "source": [
    "ss = StandardScaler()\n",
    "X_train = ss.fit_transform(X_train)\n",
    "X_test = ss.transform(X_test)"
   ]
  },
  {
   "cell_type": "code",
   "execution_count": 70,
   "id": "692281fd",
   "metadata": {},
   "outputs": [],
   "source": [
    "np.savetxt('./data/TrainTest/X_train.csv',X_train,delimiter=',')\n",
    "np.savetxt('./data/TrainTest/y_train.csv',y_train,delimiter=',')\n",
    "np.savetxt('./data/TrainTest/X_test.csv',X_test,delimiter=',')\n",
    "np.savetxt('./data/TrainTest/y_test.csv',y_test,delimiter=',')"
   ]
  },
  {
   "cell_type": "code",
   "execution_count": 71,
   "id": "57acb6ed",
   "metadata": {},
   "outputs": [],
   "source": [
    "pca = PCA(n_components=10,random_state=42)\n",
    "pca.fit(X_train)\n",
    "X_train_pc = pca.transform(X_train)\n",
    "X_test_pc = pca.transform(X_test)"
   ]
  },
  {
   "cell_type": "code",
   "execution_count": 72,
   "id": "2a27f330",
   "metadata": {},
   "outputs": [],
   "source": [
    "models = {\n",
    "    'LogReg': LogisticRegression(),\n",
    "    'Decision Tree':DecisionTreeClassifier(),\n",
    "    'Random Forest':RandomForestClassifier(),\n",
    "    'Gradient Boost':GradientBoostingClassifier(),\n",
    "    'Ada Boost':AdaBoostClassifier(),\n",
    "    'SVC':SVC(),\n",
    "    'Naive Bayes':GaussianNB()}"
   ]
  },
  {
   "cell_type": "code",
   "execution_count": 73,
   "id": "a27fd7a8",
   "metadata": {},
   "outputs": [],
   "source": [
    "def final(fullname, dataset):\n",
    "    \"\"\"Returns a sliced dataset of columns found in corr_features list.\"\"\"\n",
    "    fullname_df = pd.DataFrame()\n",
    "    for feature in fullname:\n",
    "        try:\n",
    "            fullname_df[feature] = dataset[feature]\n",
    "        except:\n",
    "            continue\n",
    "    fullname_df['CAT_ELIG']=dataset['CAT_ELIG']\n",
    "    return fullname_df"
   ]
  },
  {
   "cell_type": "code",
   "execution_count": 74,
   "id": "67acaa28",
   "metadata": {},
   "outputs": [],
   "source": [
    "from sklearn.model_selection import cross_val_score\n",
    "from sklearn.metrics import recall_score, precision_score"
   ]
  },
  {
   "cell_type": "code",
   "execution_count": 75,
   "id": "0fbc67ee",
   "metadata": {},
   "outputs": [],
   "source": [
    "final = pd.DataFrame(columns=['name', 'cross_val_train', 'cross_val_test', 'test_recall', 'test_precision'])\n"
   ]
  },
  {
   "cell_type": "code",
   "execution_count": 76,
   "id": "414a89ae",
   "metadata": {},
   "outputs": [],
   "source": [
    "from sklearn.linear_model import LogisticRegression\n",
    "\n",
    "# Increase the number of iterations\n",
    "model = LogisticRegression(max_iter=200)"
   ]
  },
  {
   "cell_type": "code",
   "execution_count": null,
   "id": "f3475d4d",
   "metadata": {},
   "outputs": [
    {
     "name": "stderr",
     "output_type": "stream",
     "text": [
      "C:\\Users\\pmanc\\AppData\\Local\\Programs\\ArcGIS\\Pro\\bin\\Python\\envs\\arcgispro-py3\\Lib\\site-packages\\sklearn\\linear_model\\_logistic.py:460: ConvergenceWarning: lbfgs failed to converge (status=1):\n",
      "STOP: TOTAL NO. of ITERATIONS REACHED LIMIT.\n",
      "\n",
      "Increase the number of iterations (max_iter) or scale the data as shown in:\n",
      "    https://scikit-learn.org/stable/modules/preprocessing.html\n",
      "Please also refer to the documentation for alternative solver options:\n",
      "    https://scikit-learn.org/stable/modules/linear_model.html#logistic-regression\n",
      "  n_iter_i = _check_optimize_result(\n",
      "C:\\Users\\pmanc\\AppData\\Local\\Programs\\ArcGIS\\Pro\\bin\\Python\\envs\\arcgispro-py3\\Lib\\site-packages\\sklearn\\linear_model\\_logistic.py:460: ConvergenceWarning: lbfgs failed to converge (status=1):\n",
      "STOP: TOTAL NO. of ITERATIONS REACHED LIMIT.\n",
      "\n",
      "Increase the number of iterations (max_iter) or scale the data as shown in:\n",
      "    https://scikit-learn.org/stable/modules/preprocessing.html\n",
      "Please also refer to the documentation for alternative solver options:\n",
      "    https://scikit-learn.org/stable/modules/linear_model.html#logistic-regression\n",
      "  n_iter_i = _check_optimize_result(\n",
      "C:\\Users\\pmanc\\AppData\\Local\\Programs\\ArcGIS\\Pro\\bin\\Python\\envs\\arcgispro-py3\\Lib\\site-packages\\sklearn\\linear_model\\_logistic.py:460: ConvergenceWarning: lbfgs failed to converge (status=1):\n",
      "STOP: TOTAL NO. of ITERATIONS REACHED LIMIT.\n",
      "\n",
      "Increase the number of iterations (max_iter) or scale the data as shown in:\n",
      "    https://scikit-learn.org/stable/modules/preprocessing.html\n",
      "Please also refer to the documentation for alternative solver options:\n",
      "    https://scikit-learn.org/stable/modules/linear_model.html#logistic-regression\n",
      "  n_iter_i = _check_optimize_result(\n",
      "C:\\Users\\pmanc\\AppData\\Local\\Programs\\ArcGIS\\Pro\\bin\\Python\\envs\\arcgispro-py3\\Lib\\site-packages\\sklearn\\linear_model\\_logistic.py:460: ConvergenceWarning: lbfgs failed to converge (status=1):\n",
      "STOP: TOTAL NO. of ITERATIONS REACHED LIMIT.\n",
      "\n",
      "Increase the number of iterations (max_iter) or scale the data as shown in:\n",
      "    https://scikit-learn.org/stable/modules/preprocessing.html\n",
      "Please also refer to the documentation for alternative solver options:\n",
      "    https://scikit-learn.org/stable/modules/linear_model.html#logistic-regression\n",
      "  n_iter_i = _check_optimize_result(\n",
      "C:\\Users\\pmanc\\AppData\\Local\\Programs\\ArcGIS\\Pro\\bin\\Python\\envs\\arcgispro-py3\\Lib\\site-packages\\sklearn\\linear_model\\_logistic.py:460: ConvergenceWarning: lbfgs failed to converge (status=1):\n",
      "STOP: TOTAL NO. of ITERATIONS REACHED LIMIT.\n",
      "\n",
      "Increase the number of iterations (max_iter) or scale the data as shown in:\n",
      "    https://scikit-learn.org/stable/modules/preprocessing.html\n",
      "Please also refer to the documentation for alternative solver options:\n",
      "    https://scikit-learn.org/stable/modules/linear_model.html#logistic-regression\n",
      "  n_iter_i = _check_optimize_result(\n"
     ]
    }
   ],
   "source": [
    "for name, model in models.items():\n",
    "    results = {}\n",
    "    results['name'] = name\n",
    "    model.fit(X_train, y_train)\n",
    "    y_pred_train = model.predict(X_train)\n",
    "    y_pred_test = model.predict(X_test)\n",
    "\n",
    "    results['cross_val_train'] = np.mean(cross_val_score(model, X_train, y_train, cv=4))\n",
    "    results['cross_val_test'] = np.mean(cross_val_score(model, X_test, y_test, cv=4))\n",
    "    results['test_recall'] = recall_score(y_test, y_pred_test)\n",
    "    results['test_precision'] = precision_score(y_test, y_pred_test)\n",
    "\n",
    "    # Convert results to a DataFrame and concatenate\n",
    "    results_df = pd.DataFrame([results])\n",
    "    final = pd.concat([final, results_df], ignore_index=True)\n",
    "\n",
    "print(final)"
   ]
  },
  {
   "cell_type": "code",
   "execution_count": null,
   "id": "07f84291",
   "metadata": {},
   "outputs": [],
   "source": [
    "final.set_index('name')"
   ]
  },
  {
   "cell_type": "code",
   "execution_count": null,
   "id": "7267cd70",
   "metadata": {},
   "outputs": [],
   "source": [
    "for name,model in models.items():\n",
    "    name = model.fit(X_train,y_train)\n",
    "    y_pred_train = model.predict(X_train)\n",
    "    y_pred_test = model.predict(X_test)\n",
    "    print(name)\n",
    "    print(classification_report(y_test, y_pred_test))\n",
    "    print('\\n')"
   ]
  },
  {
   "cell_type": "code",
   "execution_count": null,
   "id": "a55cfee9",
   "metadata": {},
   "outputs": [],
   "source": [
    "rf = RandomForestClassifier()\n",
    "params={'max_depth':[None,3,4],\n",
    "       'max_features':[None,'auto'],\n",
    "       'n_estimators':[75,100,125]}\n",
    "rf_gs = GridSearchCV(rf,param_grid=params)\n",
    "rf_gs.fit(X_train,y_train)\n",
    "print(rf_gs.best_score_)\n",
    "rf_gs.best_params_"
   ]
  },
  {
   "cell_type": "code",
   "execution_count": null,
   "id": "1ddea40b",
   "metadata": {},
   "outputs": [],
   "source": [
    "rf = RandomForestClassifier()\n",
    "rf.fit(X_train,y_train)"
   ]
  },
  {
   "cell_type": "code",
   "execution_count": null,
   "id": "bf79d937",
   "metadata": {},
   "outputs": [],
   "source": [
    "instances = X_test[[735]]\n",
    "instances"
   ]
  },
  {
   "cell_type": "code",
   "execution_count": null,
   "id": "ba7071a6",
   "metadata": {},
   "outputs": [],
   "source": [
    "ft_list = []\n",
    "prediction, bias, contributions = ti.predict(rf, instances)\n",
    "print( \"Prediction\", prediction)\n",
    "print( \"Bias (trainset prior)\", bias)\n",
    "print (\"Feature contributions:\")\n",
    "for c, feature in zip(contributions[0], \n",
    "                             X.columns):\n",
    "    ft_list.append((feature, np.round(c, 2)))\n",
    "    print (feature, c)\n",
    "    \n",
    "labels, values = zip(*ft_list)"
   ]
  },
  {
   "cell_type": "code",
   "execution_count": null,
   "id": "45003616",
   "metadata": {},
   "outputs": [],
   "source": [
    "df1 = pd.DataFrame(ft_list,columns=['feature','array'])\n",
    "df2 = pd.DataFrame(df1[\"array\"].to_list(), columns=['pred_0', 'pred_1'])\n",
    "coef_df = pd.concat([df1,df2],axis=1).drop(columns=['array'])\n",
    "coef_df.to_csv('./data/2018_indicators/coef.csv',index=None)"
   ]
  },
  {
   "cell_type": "code",
   "execution_count": null,
   "id": "d3be7b48",
   "metadata": {},
   "outputs": [],
   "source": [
    "fig, ax = plt.subplots(figsize=(20,10))\n",
    "plt.title('Random Forest range of Coefficients Effect on SNAP \\n (the larger the range, the more impact on predicting SNAP)')\n",
    "plt.grid(zorder=0,alpha = 0.2)\n",
    "xs = np.arange(len(labels))\n",
    "ax.bar(xs,coef_df['pred_0'], label = 'pred 0')\n",
    "ax.bar(xs,coef_df['pred_1'],label = 'pred 1')\n",
    "ax.axhline(y=0, linestyle='--', color='black', linewidth=4)\n",
    "ax.set_xticks(coef_df.index)\n",
    "ax.set_xticklabels(coef_df['feature'],rotation = 45)\n",
    "plt.legend()\n",
    "plt.savefig('./images/rf_corr.png');"
   ]
  },
  {
   "cell_type": "code",
   "execution_count": null,
   "id": "68390a91",
   "metadata": {},
   "outputs": [],
   "source": [
    "et = ExtraTreeClassifier()\n",
    "params={'max_depth':[None,3,4],\n",
    "       'max_features':[None,'auto'],\n",
    "       'max_leaf_nodes':[5,10]}\n",
    "et_gs = GridSearchCV(et,param_grid=params)\n",
    "et_gs.fit(X_train,y_train)\n",
    "print(et_gs.best_score_)\n",
    "et_gs.best_params_"
   ]
  },
  {
   "cell_type": "code",
   "execution_count": null,
   "id": "776da73f",
   "metadata": {},
   "outputs": [],
   "source": [
    "bag = BaggingClassifier()\n",
    "bag.fit(X_train,y_train)\n",
    "y_pred_train = bag.predict(X_train)\n",
    "y_pred_test = bag.predict(X_test)\n",
    "print(f'cross_val_train = {np.mean(cross_val_score(model,X_train_pc,y_train,cv=4))}')\n",
    "print(f'cross_val_test = {np.mean(cross_val_score(model,X_test_pc,y_test,cv=4))}')\n",
    "print(f'test_recall = {recall_score(y_test, y_pred_test)}')\n",
    "print(f'test_precision = {precision_score(y_test, y_pred_test)}')"
   ]
  },
  {
   "cell_type": "code",
   "execution_count": null,
   "id": "1383fb10",
   "metadata": {},
   "outputs": [],
   "source": [
    "0.9509512425417362\n",
    "{'bag__n_estimators': 10,\n",
    " 'gb__max_depth': 10,\n",
    " 'gb__subsample': 0.8,\n",
    " 'rf__bootstrap': False,\n",
    " 'rf__max_depth': None,\n",
    " 'rf__n_estimators': 1000}"
   ]
  },
  {
   "cell_type": "code",
   "execution_count": null,
   "id": "ac4e9d72",
   "metadata": {},
   "outputs": [],
   "source": [
    "vote = VotingClassifier([\n",
    "    ('rf',RandomForestClassifier(bootstrap=False,n_estimators=1000)),\n",
    "    ('gb',GradientBoostingClassifier(max_depth=10,subsample=0.8)),\n",
    "    ('bag',BaggingClassifier(n_estimators = 10))\n",
    "])"
   ]
  },
  {
   "cell_type": "code",
   "execution_count": null,
   "id": "5b40ac84",
   "metadata": {},
   "outputs": [],
   "source": [
    "vote.fit(X_train,y_train)"
   ]
  },
  {
   "cell_type": "code",
   "execution_count": null,
   "id": "9ca3fe72",
   "metadata": {},
   "outputs": [],
   "source": [
    "filename = 'final_model.sav'\n",
    "pickle.dump(vote, open(filename, 'wb'))"
   ]
  },
  {
   "cell_type": "code",
   "execution_count": null,
   "id": "3f81d256",
   "metadata": {},
   "outputs": [],
   "source": []
  }
 ],
 "metadata": {
  "kernelspec": {
   "display_name": "Python 3 (ipykernel)",
   "language": "python",
   "name": "python3"
  },
  "language_info": {
   "codemirror_mode": {
    "name": "ipython",
    "version": 3
   },
   "file_extension": ".py",
   "mimetype": "text/x-python",
   "name": "python",
   "nbconvert_exporter": "python",
   "pygments_lexer": "ipython3",
   "version": "3.11.8"
  }
 },
 "nbformat": 4,
 "nbformat_minor": 5
}
