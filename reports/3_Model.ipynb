{
 "cells": [
  {
   "cell_type": "code",
   "execution_count": 1,
   "id": "a4e6636a",
   "metadata": {},
   "outputs": [],
   "source": [
    "import pandas as pd\n",
    "import numpy as np\n",
    "import matplotlib.pyplot as plt\n",
    "import seaborn as sns\n",
    "from pylab import rcParams\n",
    "random_state = 42\n",
    "import autoreload\n",
    "%load_ext autoreload\n",
    "%autoreload 2\n",
    "\n",
    "\n",
    "import pickle\n",
    "\n",
    "from sklearn.model_selection import train_test_split,cross_val_score,GridSearchCV\n",
    "from sklearn.metrics import accuracy_score,classification_report,confusion_matrix,recall_score,precision_score\n",
    "from treeinterpreter import treeinterpreter as ti\n",
    "from sklearn.preprocessing import StandardScaler\n",
    "from sklearn.decomposition import PCA\n",
    "\n",
    "from sklearn.linear_model import LogisticRegression\n",
    "from sklearn.tree import DecisionTreeClassifier,ExtraTreeClassifier\n",
    "from sklearn.ensemble import RandomForestClassifier,GradientBoostingClassifier,AdaBoostClassifier,BaggingClassifier, VotingClassifier\n",
    "from sklearn.svm import SVC\n",
    "from sklearn.naive_bayes import GaussianNB"
   ]
  },
  {
   "cell_type": "code",
   "execution_count": 2,
   "id": "19d7d332",
   "metadata": {},
   "outputs": [],
   "source": [
    "df = pd.read_csv(\"./data/final.csv\")"
   ]
  },
  {
   "cell_type": "code",
   "execution_count": 3,
   "id": "4f86f9f7",
   "metadata": {},
   "outputs": [
    {
     "name": "stdout",
     "output_type": "stream",
     "text": [
      "<class 'pandas.core.frame.DataFrame'>\n",
      "RangeIndex: 3904 entries, 0 to 3903\n",
      "Data columns (total 33 columns):\n",
      " #   Column    Non-Null Count  Dtype  \n",
      "---  ------    --------------  -----  \n",
      " 0   CERTHHSZ  3904 non-null   float64\n",
      " 1   FSSTDDE2  3904 non-null   float64\n",
      " 2   FSERNDE2  3904 non-null   float64\n",
      " 3   FSNELDER  3904 non-null   float64\n",
      " 4   FSUSIZE   3904 non-null   float64\n",
      " 5   FSASSET   3904 non-null   float64\n",
      " 6   FSEARN    3904 non-null   float64\n",
      " 7   FSWAGES   3904 non-null   float64\n",
      " 8   FSUNEARN  3904 non-null   float64\n",
      " 9   FSTOTDED  3904 non-null   float64\n",
      " 10  FSSLTDED  3904 non-null   float64\n",
      " 11  FSSSI     3904 non-null   float64\n",
      " 12  FSGRINC   3904 non-null   float64\n",
      " 13  FSDIS     3904 non-null   float64\n",
      " 14  FSTANF    3904 non-null   float64\n",
      " 15  LIQRESOR  3904 non-null   float64\n",
      " 16  RAWERND   3904 non-null   float64\n",
      " 17  FSNETINC  3904 non-null   float64\n",
      " 18  FSERNDED  3904 non-null   float64\n",
      " 19  TPOV      3904 non-null   float64\n",
      " 20  FSSLTDE2  3904 non-null   float64\n",
      " 21  FSGA      3904 non-null   float64\n",
      " 22  TANF_IND  3904 non-null   float64\n",
      " 23  REALPROP  3904 non-null   float64\n",
      " 24  WRK_POOR  3904 non-null   float64\n",
      " 25  FSNONCIT  3904 non-null   float64\n",
      " 26  FSTOTDE2  3904 non-null   float64\n",
      " 27  SHELDED   3904 non-null   float64\n",
      " 28  HWGT      3904 non-null   float64\n",
      " 29  RAWNET    3904 non-null   float64\n",
      " 30  CAT_ELIG  3904 non-null   float64\n",
      " 31  FSVEHAST  3904 non-null   float64\n",
      " 32  VEHICLEA  3904 non-null   float64\n",
      "dtypes: float64(33)\n",
      "memory usage: 1006.6 KB\n"
     ]
    }
   ],
   "source": [
    "df.info()"
   ]
  },
  {
   "cell_type": "code",
   "execution_count": 4,
   "id": "7ac72c19",
   "metadata": {},
   "outputs": [],
   "source": [
    "X = df.drop(columns = ['CAT_ELIG'])\n",
    "y = df['CAT_ELIG']"
   ]
  },
  {
   "cell_type": "code",
   "execution_count": 5,
   "id": "8480a8ad",
   "metadata": {},
   "outputs": [
    {
     "data": {
      "text/plain": [
       "CAT_ELIG\n",
       "1.0    0.662398\n",
       "0.0    0.337602\n",
       "Name: proportion, dtype: float64"
      ]
     },
     "execution_count": 5,
     "metadata": {},
     "output_type": "execute_result"
    }
   ],
   "source": [
    "#baseline, NULL Model\n",
    "y.value_counts(normalize=True)"
   ]
  },
  {
   "cell_type": "code",
   "execution_count": 6,
   "id": "c8022f44",
   "metadata": {},
   "outputs": [],
   "source": [
    "X_train, X_test, y_train, y_test = train_test_split(X,y,test_size=.3,random_state=random_state)"
   ]
  },
  {
   "cell_type": "code",
   "execution_count": 7,
   "id": "b99a7d1c",
   "metadata": {},
   "outputs": [],
   "source": [
    "ss = StandardScaler()\n",
    "X_train = ss.fit_transform(X_train)\n",
    "X_test = ss.transform(X_test)"
   ]
  },
  {
   "cell_type": "code",
   "execution_count": 8,
   "id": "692281fd",
   "metadata": {},
   "outputs": [],
   "source": [
    "np.savetxt('./data/TrainTest/X_train.csv',X_train,delimiter=',')\n",
    "np.savetxt('./data/TrainTest/y_train.csv',y_train,delimiter=',')\n",
    "np.savetxt('./data/TrainTest/X_test.csv',X_test,delimiter=',')\n",
    "np.savetxt('./data/TrainTest/y_test.csv',y_test,delimiter=',')"
   ]
  },
  {
   "cell_type": "code",
   "execution_count": 9,
   "id": "57acb6ed",
   "metadata": {},
   "outputs": [],
   "source": [
    "pca = PCA(n_components=10,random_state=42)\n",
    "pca.fit(X_train)\n",
    "X_train_pc = pca.transform(X_train)\n",
    "X_test_pc = pca.transform(X_test)"
   ]
  },
  {
   "cell_type": "code",
   "execution_count": 10,
   "id": "2a27f330",
   "metadata": {},
   "outputs": [],
   "source": [
    "models = {\n",
    "    'LogReg': LogisticRegression(),\n",
    "    'Decision Tree':DecisionTreeClassifier(),\n",
    "    'Random Forest':RandomForestClassifier(),\n",
    "    'Gradient Boost':GradientBoostingClassifier(),\n",
    "    'Ada Boost':AdaBoostClassifier(),\n",
    "    'SVC':SVC(),\n",
    "    'Naive Bayes':GaussianNB()}"
   ]
  },
  {
   "cell_type": "code",
   "execution_count": 11,
   "id": "c4aa92a7",
   "metadata": {},
   "outputs": [],
   "source": [
    "from sklearn.model_selection import cross_val_score\n",
    "from sklearn.metrics import recall_score, precision_score"
   ]
  },
  {
   "cell_type": "code",
   "execution_count": 12,
   "id": "f3475d4d",
   "metadata": {},
   "outputs": [],
   "source": [
    "final = pd.DataFrame(columns=['name', 'cross_val_train', 'cross_val_test', 'test_recall', 'test_precision'])\n",
    "\n",
    "idx = 0\n",
    "while idx < len(models.keys()):\n",
    "    for name, model in models.items():\n",
    "        results = {}\n",
    "        results['name'] = name\n",
    "        model.fit(X_train, y_train)\n",
    "        y_pred_train = model.predict(X_train)\n",
    "        y_pred_test = model.predict(X_test)\n",
    "        results['cross_val_train'] = np.mean(cross_val_score(model, X_train, y_train, cv=4))\n",
    "        results['cross_val_test'] = np.mean(cross_val_score(model, X_test, y_test, cv=4))\n",
    "        results['test_recall'] = recall_score(y_test, y_pred_test)\n",
    "        results['test_precision'] = precision_score(y_test, y_pred_test)\n",
    "        \n",
    "        # Convert results to a DataFrame and append using pd.concat\n",
    "        results_df = pd.DataFrame([results])\n",
    "        final = pd.concat([final, results_df], ignore_index=True)\n",
    "        \n",
    "        idx += 1"
   ]
  },
  {
   "cell_type": "code",
   "execution_count": 13,
   "id": "07f84291",
   "metadata": {},
   "outputs": [
    {
     "data": {
      "text/html": [
       "<div>\n",
       "<style scoped>\n",
       "    .dataframe tbody tr th:only-of-type {\n",
       "        vertical-align: middle;\n",
       "    }\n",
       "\n",
       "    .dataframe tbody tr th {\n",
       "        vertical-align: top;\n",
       "    }\n",
       "\n",
       "    .dataframe thead th {\n",
       "        text-align: right;\n",
       "    }\n",
       "</style>\n",
       "<table border=\"1\" class=\"dataframe\">\n",
       "  <thead>\n",
       "    <tr style=\"text-align: right;\">\n",
       "      <th></th>\n",
       "      <th>cross_val_train</th>\n",
       "      <th>cross_val_test</th>\n",
       "      <th>test_recall</th>\n",
       "      <th>test_precision</th>\n",
       "    </tr>\n",
       "    <tr>\n",
       "      <th>name</th>\n",
       "      <th></th>\n",
       "      <th></th>\n",
       "      <th></th>\n",
       "      <th></th>\n",
       "    </tr>\n",
       "  </thead>\n",
       "  <tbody>\n",
       "    <tr>\n",
       "      <th>LogReg</th>\n",
       "      <td>0.884334</td>\n",
       "      <td>0.862628</td>\n",
       "      <td>0.900262</td>\n",
       "      <td>0.903821</td>\n",
       "    </tr>\n",
       "    <tr>\n",
       "      <th>Decision Tree</th>\n",
       "      <td>0.904832</td>\n",
       "      <td>0.918942</td>\n",
       "      <td>0.931759</td>\n",
       "      <td>0.940397</td>\n",
       "    </tr>\n",
       "    <tr>\n",
       "      <th>Random Forest</th>\n",
       "      <td>0.939605</td>\n",
       "      <td>0.932594</td>\n",
       "      <td>0.965879</td>\n",
       "      <td>0.954604</td>\n",
       "    </tr>\n",
       "    <tr>\n",
       "      <th>Gradient Boost</th>\n",
       "      <td>0.939971</td>\n",
       "      <td>0.930034</td>\n",
       "      <td>0.950131</td>\n",
       "      <td>0.960212</td>\n",
       "    </tr>\n",
       "    <tr>\n",
       "      <th>Ada Boost</th>\n",
       "      <td>0.922401</td>\n",
       "      <td>0.920648</td>\n",
       "      <td>0.937008</td>\n",
       "      <td>0.939474</td>\n",
       "    </tr>\n",
       "    <tr>\n",
       "      <th>SVC</th>\n",
       "      <td>0.884700</td>\n",
       "      <td>0.854949</td>\n",
       "      <td>0.901575</td>\n",
       "      <td>0.928378</td>\n",
       "    </tr>\n",
       "    <tr>\n",
       "      <th>Naive Bayes</th>\n",
       "      <td>0.767204</td>\n",
       "      <td>0.741468</td>\n",
       "      <td>0.833333</td>\n",
       "      <td>0.908441</td>\n",
       "    </tr>\n",
       "  </tbody>\n",
       "</table>\n",
       "</div>"
      ],
      "text/plain": [
       "                cross_val_train  cross_val_test  test_recall  test_precision\n",
       "name                                                                        \n",
       "LogReg                 0.884334        0.862628     0.900262        0.903821\n",
       "Decision Tree          0.904832        0.918942     0.931759        0.940397\n",
       "Random Forest          0.939605        0.932594     0.965879        0.954604\n",
       "Gradient Boost         0.939971        0.930034     0.950131        0.960212\n",
       "Ada Boost              0.922401        0.920648     0.937008        0.939474\n",
       "SVC                    0.884700        0.854949     0.901575        0.928378\n",
       "Naive Bayes            0.767204        0.741468     0.833333        0.908441"
      ]
     },
     "execution_count": 13,
     "metadata": {},
     "output_type": "execute_result"
    }
   ],
   "source": [
    "final.set_index('name')"
   ]
  },
  {
   "cell_type": "code",
   "execution_count": 14,
   "id": "7267cd70",
   "metadata": {},
   "outputs": [
    {
     "name": "stdout",
     "output_type": "stream",
     "text": [
      "LogisticRegression()\n",
      "              precision    recall  f1-score   support\n",
      "\n",
      "         0.0       0.82      0.82      0.82       410\n",
      "         1.0       0.90      0.90      0.90       762\n",
      "\n",
      "    accuracy                           0.87      1172\n",
      "   macro avg       0.86      0.86      0.86      1172\n",
      "weighted avg       0.87      0.87      0.87      1172\n",
      "\n",
      "\n",
      "\n",
      "DecisionTreeClassifier()\n",
      "              precision    recall  f1-score   support\n",
      "\n",
      "         0.0       0.87      0.90      0.88       410\n",
      "         1.0       0.94      0.93      0.94       762\n",
      "\n",
      "    accuracy                           0.92      1172\n",
      "   macro avg       0.91      0.91      0.91      1172\n",
      "weighted avg       0.92      0.92      0.92      1172\n",
      "\n",
      "\n",
      "\n",
      "RandomForestClassifier()\n",
      "              precision    recall  f1-score   support\n",
      "\n",
      "         0.0       0.93      0.92      0.93       410\n",
      "         1.0       0.96      0.96      0.96       762\n",
      "\n",
      "    accuracy                           0.95      1172\n",
      "   macro avg       0.95      0.94      0.95      1172\n",
      "weighted avg       0.95      0.95      0.95      1172\n",
      "\n",
      "\n",
      "\n",
      "GradientBoostingClassifier()\n",
      "              precision    recall  f1-score   support\n",
      "\n",
      "         0.0       0.92      0.91      0.91       410\n",
      "         1.0       0.95      0.96      0.95       762\n",
      "\n",
      "    accuracy                           0.94      1172\n",
      "   macro avg       0.93      0.93      0.93      1172\n",
      "weighted avg       0.94      0.94      0.94      1172\n",
      "\n",
      "\n",
      "\n",
      "AdaBoostClassifier()\n",
      "              precision    recall  f1-score   support\n",
      "\n",
      "         0.0       0.88      0.89      0.89       410\n",
      "         1.0       0.94      0.94      0.94       762\n",
      "\n",
      "    accuracy                           0.92      1172\n",
      "   macro avg       0.91      0.91      0.91      1172\n",
      "weighted avg       0.92      0.92      0.92      1172\n",
      "\n",
      "\n",
      "\n",
      "SVC()\n",
      "              precision    recall  f1-score   support\n",
      "\n",
      "         0.0       0.83      0.87      0.85       410\n",
      "         1.0       0.93      0.90      0.91       762\n",
      "\n",
      "    accuracy                           0.89      1172\n",
      "   macro avg       0.88      0.89      0.88      1172\n",
      "weighted avg       0.89      0.89      0.89      1172\n",
      "\n",
      "\n",
      "\n",
      "GaussianNB()\n",
      "              precision    recall  f1-score   support\n",
      "\n",
      "         0.0       0.73      0.84      0.78       410\n",
      "         1.0       0.91      0.83      0.87       762\n",
      "\n",
      "    accuracy                           0.84      1172\n",
      "   macro avg       0.82      0.84      0.83      1172\n",
      "weighted avg       0.85      0.84      0.84      1172\n",
      "\n",
      "\n",
      "\n"
     ]
    }
   ],
   "source": [
    "for name,model in models.items():\n",
    "    name = model.fit(X_train,y_train)\n",
    "    y_pred_train = model.predict(X_train)\n",
    "    y_pred_test = model.predict(X_test)\n",
    "    print(name)\n",
    "    print(classification_report(y_test, y_pred_test))\n",
    "    print('\\n')"
   ]
  },
  {
   "cell_type": "code",
   "execution_count": 15,
   "id": "a55cfee9",
   "metadata": {},
   "outputs": [
    {
     "name": "stderr",
     "output_type": "stream",
     "text": [
      "C:\\Users\\pmanc\\AppData\\Local\\Programs\\ArcGIS\\Pro\\bin\\Python\\envs\\arcgispro-py3\\Lib\\site-packages\\sklearn\\model_selection\\_validation.py:425: FitFailedWarning: \n",
      "45 fits failed out of a total of 90.\n",
      "The score on these train-test partitions for these parameters will be set to nan.\n",
      "If these failures are not expected, you can try to debug them by setting error_score='raise'.\n",
      "\n",
      "Below are more details about the failures:\n",
      "--------------------------------------------------------------------------------\n",
      "45 fits failed with the following error:\n",
      "Traceback (most recent call last):\n",
      "  File \"C:\\Users\\pmanc\\AppData\\Local\\Programs\\ArcGIS\\Pro\\bin\\Python\\envs\\arcgispro-py3\\Lib\\site-packages\\sklearn\\model_selection\\_validation.py\", line 732, in _fit_and_score\n",
      "    estimator.fit(X_train, y_train, **fit_params)\n",
      "  File \"C:\\Users\\pmanc\\AppData\\Local\\Programs\\ArcGIS\\Pro\\bin\\Python\\envs\\arcgispro-py3\\Lib\\site-packages\\sklearn\\base.py\", line 1144, in wrapper\n",
      "    estimator._validate_params()\n",
      "  File \"C:\\Users\\pmanc\\AppData\\Local\\Programs\\ArcGIS\\Pro\\bin\\Python\\envs\\arcgispro-py3\\Lib\\site-packages\\sklearn\\base.py\", line 637, in _validate_params\n",
      "    validate_parameter_constraints(\n",
      "  File \"C:\\Users\\pmanc\\AppData\\Local\\Programs\\ArcGIS\\Pro\\bin\\Python\\envs\\arcgispro-py3\\Lib\\site-packages\\sklearn\\utils\\_param_validation.py\", line 95, in validate_parameter_constraints\n",
      "    raise InvalidParameterError(\n",
      "sklearn.utils._param_validation.InvalidParameterError: The 'max_features' parameter of RandomForestClassifier must be an int in the range [1, inf), a float in the range (0.0, 1.0], a str among {'log2', 'sqrt'} or None. Got 'auto' instead.\n",
      "\n",
      "  warnings.warn(some_fits_failed_message, FitFailedWarning)\n",
      "C:\\Users\\pmanc\\AppData\\Local\\Programs\\ArcGIS\\Pro\\bin\\Python\\envs\\arcgispro-py3\\Lib\\site-packages\\sklearn\\model_selection\\_search.py:976: UserWarning: One or more of the test scores are non-finite: [0.93740616 0.93374383 0.93703719        nan        nan        nan\n",
      " 0.87408576 0.87737643 0.87737643        nan        nan        nan\n",
      " 0.90336367 0.90153284 0.90373064        nan        nan        nan]\n",
      "  warnings.warn(\n"
     ]
    },
    {
     "name": "stdout",
     "output_type": "stream",
     "text": [
      "0.9374061648284682\n"
     ]
    },
    {
     "data": {
      "text/plain": [
       "{'max_depth': None, 'max_features': None, 'n_estimators': 75}"
      ]
     },
     "execution_count": 15,
     "metadata": {},
     "output_type": "execute_result"
    }
   ],
   "source": [
    "rf = RandomForestClassifier()\n",
    "params={'max_depth':[None,3,4],\n",
    "       'max_features':[None,'auto'],\n",
    "       'n_estimators':[75,100,125]}\n",
    "rf_gs = GridSearchCV(rf,param_grid=params)\n",
    "rf_gs.fit(X_train,y_train)\n",
    "print(rf_gs.best_score_)\n",
    "rf_gs.best_params_"
   ]
  },
  {
   "cell_type": "code",
   "execution_count": 16,
   "id": "1ddea40b",
   "metadata": {},
   "outputs": [
    {
     "data": {
      "text/html": [
       "<style>#sk-container-id-1 {color: black;}#sk-container-id-1 pre{padding: 0;}#sk-container-id-1 div.sk-toggleable {background-color: white;}#sk-container-id-1 label.sk-toggleable__label {cursor: pointer;display: block;width: 100%;margin-bottom: 0;padding: 0.3em;box-sizing: border-box;text-align: center;}#sk-container-id-1 label.sk-toggleable__label-arrow:before {content: \"▸\";float: left;margin-right: 0.25em;color: #696969;}#sk-container-id-1 label.sk-toggleable__label-arrow:hover:before {color: black;}#sk-container-id-1 div.sk-estimator:hover label.sk-toggleable__label-arrow:before {color: black;}#sk-container-id-1 div.sk-toggleable__content {max-height: 0;max-width: 0;overflow: hidden;text-align: left;background-color: #f0f8ff;}#sk-container-id-1 div.sk-toggleable__content pre {margin: 0.2em;color: black;border-radius: 0.25em;background-color: #f0f8ff;}#sk-container-id-1 input.sk-toggleable__control:checked~div.sk-toggleable__content {max-height: 200px;max-width: 100%;overflow: auto;}#sk-container-id-1 input.sk-toggleable__control:checked~label.sk-toggleable__label-arrow:before {content: \"▾\";}#sk-container-id-1 div.sk-estimator input.sk-toggleable__control:checked~label.sk-toggleable__label {background-color: #d4ebff;}#sk-container-id-1 div.sk-label input.sk-toggleable__control:checked~label.sk-toggleable__label {background-color: #d4ebff;}#sk-container-id-1 input.sk-hidden--visually {border: 0;clip: rect(1px 1px 1px 1px);clip: rect(1px, 1px, 1px, 1px);height: 1px;margin: -1px;overflow: hidden;padding: 0;position: absolute;width: 1px;}#sk-container-id-1 div.sk-estimator {font-family: monospace;background-color: #f0f8ff;border: 1px dotted black;border-radius: 0.25em;box-sizing: border-box;margin-bottom: 0.5em;}#sk-container-id-1 div.sk-estimator:hover {background-color: #d4ebff;}#sk-container-id-1 div.sk-parallel-item::after {content: \"\";width: 100%;border-bottom: 1px solid gray;flex-grow: 1;}#sk-container-id-1 div.sk-label:hover label.sk-toggleable__label {background-color: #d4ebff;}#sk-container-id-1 div.sk-serial::before {content: \"\";position: absolute;border-left: 1px solid gray;box-sizing: border-box;top: 0;bottom: 0;left: 50%;z-index: 0;}#sk-container-id-1 div.sk-serial {display: flex;flex-direction: column;align-items: center;background-color: white;padding-right: 0.2em;padding-left: 0.2em;position: relative;}#sk-container-id-1 div.sk-item {position: relative;z-index: 1;}#sk-container-id-1 div.sk-parallel {display: flex;align-items: stretch;justify-content: center;background-color: white;position: relative;}#sk-container-id-1 div.sk-item::before, #sk-container-id-1 div.sk-parallel-item::before {content: \"\";position: absolute;border-left: 1px solid gray;box-sizing: border-box;top: 0;bottom: 0;left: 50%;z-index: -1;}#sk-container-id-1 div.sk-parallel-item {display: flex;flex-direction: column;z-index: 1;position: relative;background-color: white;}#sk-container-id-1 div.sk-parallel-item:first-child::after {align-self: flex-end;width: 50%;}#sk-container-id-1 div.sk-parallel-item:last-child::after {align-self: flex-start;width: 50%;}#sk-container-id-1 div.sk-parallel-item:only-child::after {width: 0;}#sk-container-id-1 div.sk-dashed-wrapped {border: 1px dashed gray;margin: 0 0.4em 0.5em 0.4em;box-sizing: border-box;padding-bottom: 0.4em;background-color: white;}#sk-container-id-1 div.sk-label label {font-family: monospace;font-weight: bold;display: inline-block;line-height: 1.2em;}#sk-container-id-1 div.sk-label-container {text-align: center;}#sk-container-id-1 div.sk-container {/* jupyter's `normalize.less` sets `[hidden] { display: none; }` but bootstrap.min.css set `[hidden] { display: none !important; }` so we also need the `!important` here to be able to override the default hidden behavior on the sphinx rendered scikit-learn.org. See: https://github.com/scikit-learn/scikit-learn/issues/21755 */display: inline-block !important;position: relative;}#sk-container-id-1 div.sk-text-repr-fallback {display: none;}</style><div id=\"sk-container-id-1\" class=\"sk-top-container\"><div class=\"sk-text-repr-fallback\"><pre>RandomForestClassifier()</pre><b>In a Jupyter environment, please rerun this cell to show the HTML representation or trust the notebook. <br />On GitHub, the HTML representation is unable to render, please try loading this page with nbviewer.org.</b></div><div class=\"sk-container\" hidden><div class=\"sk-item\"><div class=\"sk-estimator sk-toggleable\"><input class=\"sk-toggleable__control sk-hidden--visually\" id=\"sk-estimator-id-1\" type=\"checkbox\" checked><label for=\"sk-estimator-id-1\" class=\"sk-toggleable__label sk-toggleable__label-arrow\">RandomForestClassifier</label><div class=\"sk-toggleable__content\"><pre>RandomForestClassifier()</pre></div></div></div></div></div>"
      ],
      "text/plain": [
       "RandomForestClassifier()"
      ]
     },
     "execution_count": 16,
     "metadata": {},
     "output_type": "execute_result"
    }
   ],
   "source": [
    "rf = RandomForestClassifier()\n",
    "rf.fit(X_train,y_train)"
   ]
  },
  {
   "cell_type": "code",
   "execution_count": 17,
   "id": "bf79d937",
   "metadata": {},
   "outputs": [
    {
     "data": {
      "text/plain": [
       "array([[ 1.02614408, -1.59315573, -0.56404251, -0.40909055,  1.02614408,\n",
       "        -0.24309398, -0.59800159, -0.55893964, -0.91848291,  0.39411313,\n",
       "         1.0459183 , -0.42833737, -1.25472977, -0.51403261, -0.34230342,\n",
       "        -0.24501332, -0.59885312, -0.8826584 , -0.59758589, -1.49056789,\n",
       "        -0.87253073, -0.1335093 , -0.36488324, -0.03517855, -0.76825854,\n",
       "         1.78070948, -1.28640995,  1.00652396, -0.51614194, -0.88061189,\n",
       "        -0.02833014, -0.35352552]])"
      ]
     },
     "execution_count": 17,
     "metadata": {},
     "output_type": "execute_result"
    }
   ],
   "source": [
    "instances = X_test[[735]]\n",
    "instances"
   ]
  },
  {
   "cell_type": "code",
   "execution_count": 18,
   "id": "ba7071a6",
   "metadata": {},
   "outputs": [
    {
     "name": "stdout",
     "output_type": "stream",
     "text": [
      "Prediction [[0.62 0.38]]\n",
      "Bias (trainset prior) [[0.33148975 0.66851025]]\n",
      "Feature contributions:\n",
      "CERTHHSZ [ 0.03950024 -0.03950024]\n",
      "FSSTDDE2 [ 0.03462517 -0.03462517]\n",
      "FSERNDE2 [-0.00582424  0.00582424]\n",
      "FSNELDER [ 0.00080293 -0.00080293]\n",
      "FSUSIZE [ 0.01289313 -0.01289313]\n",
      "FSASSET [-0.02847026  0.02847026]\n",
      "FSEARN [-0.01509925  0.01509925]\n",
      "FSWAGES [-0.00986841  0.00986841]\n",
      "FSUNEARN [ 0.02481306 -0.02481306]\n",
      "FSTOTDED [-0.06084031  0.06084031]\n",
      "FSSLTDED [ 0.11414099 -0.11414099]\n",
      "FSSSI [ 0.01320721 -0.01320721]\n",
      "FSGRINC [-0.00570632  0.00570632]\n",
      "FSDIS [ 0.00024658 -0.00024658]\n",
      "FSTANF [ 0.02773654 -0.02773654]\n",
      "LIQRESOR [-0.02151463  0.02151463]\n",
      "RAWERND [-0.01276658  0.01276658]\n",
      "FSNETINC [-0.00104242  0.00104242]\n",
      "FSERNDED [-0.01398677  0.01398677]\n",
      "TPOV [-0.00223827  0.00223827]\n",
      "FSSLTDE2 [ 0.00083164 -0.00083164]\n",
      "FSGA [ 0.00274495 -0.00274495]\n",
      "TANF_IND [ 0.0212881 -0.0212881]\n",
      "REALPROP [0. 0.]\n",
      "WRK_POOR [-0.00715006  0.00715006]\n",
      "FSNONCIT [-0.00862847  0.00862847]\n",
      "FSTOTDE2 [ 0.01837635 -0.01837635]\n",
      "SHELDED [ 0.11940224 -0.11940224]\n",
      "HWGT [ 0.04401114 -0.04401114]\n",
      "RAWNET [-0.00814169  0.00814169]\n",
      "FSVEHAST [0. 0.]\n",
      "VEHICLEA [ 0.01516767 -0.01516767]\n"
     ]
    }
   ],
   "source": [
    "ft_list = []\n",
    "prediction, bias, contributions = ti.predict(rf, instances)\n",
    "print( \"Prediction\", prediction)\n",
    "print( \"Bias (trainset prior)\", bias)\n",
    "print (\"Feature contributions:\")\n",
    "for c, feature in zip(contributions[0], \n",
    "                             X.columns):\n",
    "    ft_list.append((feature, np.round(c, 2)))\n",
    "    print (feature, c)\n",
    "    \n",
    "labels, values = zip(*ft_list)"
   ]
  },
  {
   "cell_type": "code",
   "execution_count": 19,
   "id": "45003616",
   "metadata": {},
   "outputs": [],
   "source": [
    "df1 = pd.DataFrame(ft_list,columns=['feature','array'])\n",
    "df2 = pd.DataFrame(df1[\"array\"].to_list(), columns=['pred_0', 'pred_1'])\n",
    "coef_df = pd.concat([df1,df2],axis=1).drop(columns=['array'])\n",
    "coef_df.to_csv('./data/2018_indicators/coef.csv',index=None)"
   ]
  },
  {
   "cell_type": "code",
   "execution_count": 20,
   "id": "d3be7b48",
   "metadata": {},
   "outputs": [
    {
     "data": {
      "image/png": "[encoded data removed]",
      "text/plain": [
       "<Figure size 2000x1000 with 1 Axes>"
      ]
     },
     "metadata": {},
     "output_type": "display_data"
    }
   ],
   "source": [
    "fig, ax = plt.subplots(figsize=(20,10))\n",
    "plt.title('Random Forest range of Coefficients Effect on SNAP \\n (the larger the range, the more impact on predicting SNAP)')\n",
    "plt.grid(zorder=0,alpha = 0.2)\n",
    "xs = np.arange(len(labels))\n",
    "ax.bar(xs,coef_df['pred_0'], label = 'pred 0')\n",
    "ax.bar(xs,coef_df['pred_1'],label = 'pred 1')\n",
    "ax.axhline(y=0, linestyle='--', color='black', linewidth=4)\n",
    "ax.set_xticks(coef_df.index)\n",
    "ax.set_xticklabels(coef_df['feature'],rotation = 45)\n",
    "plt.legend()\n",
    "plt.savefig('./images/rf_corr.png');"
   ]
  },
  {
   "cell_type": "code",
   "execution_count": 21,
   "id": "68390a91",
   "metadata": {},
   "outputs": [
    {
     "name": "stdout",
     "output_type": "stream",
     "text": [
      "0.8568803530412307\n"
     ]
    },
    {
     "name": "stderr",
     "output_type": "stream",
     "text": [
      "C:\\Users\\pmanc\\AppData\\Local\\Programs\\ArcGIS\\Pro\\bin\\Python\\envs\\arcgispro-py3\\Lib\\site-packages\\sklearn\\model_selection\\_validation.py:425: FitFailedWarning: \n",
      "30 fits failed out of a total of 60.\n",
      "The score on these train-test partitions for these parameters will be set to nan.\n",
      "If these failures are not expected, you can try to debug them by setting error_score='raise'.\n",
      "\n",
      "Below are more details about the failures:\n",
      "--------------------------------------------------------------------------------\n",
      "30 fits failed with the following error:\n",
      "Traceback (most recent call last):\n",
      "  File \"C:\\Users\\pmanc\\AppData\\Local\\Programs\\ArcGIS\\Pro\\bin\\Python\\envs\\arcgispro-py3\\Lib\\site-packages\\sklearn\\model_selection\\_validation.py\", line 732, in _fit_and_score\n",
      "    estimator.fit(X_train, y_train, **fit_params)\n",
      "  File \"C:\\Users\\pmanc\\AppData\\Local\\Programs\\ArcGIS\\Pro\\bin\\Python\\envs\\arcgispro-py3\\Lib\\site-packages\\sklearn\\base.py\", line 1144, in wrapper\n",
      "    estimator._validate_params()\n",
      "  File \"C:\\Users\\pmanc\\AppData\\Local\\Programs\\ArcGIS\\Pro\\bin\\Python\\envs\\arcgispro-py3\\Lib\\site-packages\\sklearn\\base.py\", line 637, in _validate_params\n",
      "    validate_parameter_constraints(\n",
      "  File \"C:\\Users\\pmanc\\AppData\\Local\\Programs\\ArcGIS\\Pro\\bin\\Python\\envs\\arcgispro-py3\\Lib\\site-packages\\sklearn\\utils\\_param_validation.py\", line 95, in validate_parameter_constraints\n",
      "    raise InvalidParameterError(\n",
      "sklearn.utils._param_validation.InvalidParameterError: The 'max_features' parameter of ExtraTreeClassifier must be an int in the range [1, inf), a float in the range (0.0, 1.0], a str among {'log2', 'sqrt'} or None. Got 'auto' instead.\n",
      "\n",
      "  warnings.warn(some_fits_failed_message, FitFailedWarning)\n",
      "C:\\Users\\pmanc\\AppData\\Local\\Programs\\ArcGIS\\Pro\\bin\\Python\\envs\\arcgispro-py3\\Lib\\site-packages\\sklearn\\model_selection\\_search.py:976: UserWarning: One or more of the test scores are non-finite: [0.78546986 0.85688035        nan        nan 0.77233528 0.75110593\n",
      "        nan        nan 0.79609726 0.79283672        nan        nan]\n",
      "  warnings.warn(\n"
     ]
    },
    {
     "data": {
      "text/plain": [
       "{'max_depth': None, 'max_features': None, 'max_leaf_nodes': 10}"
      ]
     },
     "execution_count": 21,
     "metadata": {},
     "output_type": "execute_result"
    }
   ],
   "source": [
    "et = ExtraTreeClassifier()\n",
    "params={'max_depth':[None,3,4],\n",
    "       'max_features':[None,'auto'],\n",
    "       'max_leaf_nodes':[5,10]}\n",
    "et_gs = GridSearchCV(et,param_grid=params)\n",
    "et_gs.fit(X_train,y_train)\n",
    "print(et_gs.best_score_)\n",
    "et_gs.best_params_"
   ]
  },
  {
   "cell_type": "code",
   "execution_count": 22,
   "id": "776da73f",
   "metadata": {},
   "outputs": [
    {
     "name": "stdout",
     "output_type": "stream",
     "text": [
      "cross_val_train = 0.7269399707174231\n",
      "cross_val_test = 0.7133105802047782\n",
      "test_recall = 0.9435695538057742\n",
      "test_precision = 0.9586666666666667\n"
     ]
    }
   ],
   "source": [
    "bag = BaggingClassifier()\n",
    "bag.fit(X_train,y_train)\n",
    "y_pred_train = bag.predict(X_train)\n",
    "y_pred_test = bag.predict(X_test)\n",
    "print(f'cross_val_train = {np.mean(cross_val_score(model,X_train_pc,y_train,cv=4))}')\n",
    "print(f'cross_val_test = {np.mean(cross_val_score(model,X_test_pc,y_test,cv=4))}')\n",
    "print(f'test_recall = {recall_score(y_test, y_pred_test)}')\n",
    "print(f'test_precision = {precision_score(y_test, y_pred_test)}')"
   ]
  },
  {
   "cell_type": "code",
   "execution_count": 23,
   "id": "1383fb10",
   "metadata": {},
   "outputs": [
    {
     "data": {
      "text/plain": [
       "{'bag__n_estimators': 10,\n",
       " 'gb__max_depth': 10,\n",
       " 'gb__subsample': 0.8,\n",
       " 'rf__bootstrap': False,\n",
       " 'rf__max_depth': None,\n",
       " 'rf__n_estimators': 1000}"
      ]
     },
     "execution_count": 23,
     "metadata": {},
     "output_type": "execute_result"
    }
   ],
   "source": [
    "0.9509512425417362\n",
    "{'bag__n_estimators': 10,\n",
    " 'gb__max_depth': 10,\n",
    " 'gb__subsample': 0.8,\n",
    " 'rf__bootstrap': False,\n",
    " 'rf__max_depth': None,\n",
    " 'rf__n_estimators': 1000}"
   ]
  },
  {
   "cell_type": "code",
   "execution_count": 24,
   "id": "ac4e9d72",
   "metadata": {},
   "outputs": [],
   "source": [
    "vote = VotingClassifier([\n",
    "    ('rf',RandomForestClassifier(bootstrap=False,n_estimators=1000)),\n",
    "    ('gb',GradientBoostingClassifier(max_depth=10,subsample=0.8)),\n",
    "    ('bag',BaggingClassifier(n_estimators = 10))\n",
    "])"
   ]
  },
  {
   "cell_type": "code",
   "execution_count": 25,
   "id": "5b40ac84",
   "metadata": {},
   "outputs": [
    {
     "data": {
      "text/html": [
       "<style>#sk-container-id-2 {color: black;}#sk-container-id-2 pre{padding: 0;}#sk-container-id-2 div.sk-toggleable {background-color: white;}#sk-container-id-2 label.sk-toggleable__label {cursor: pointer;display: block;width: 100%;margin-bottom: 0;padding: 0.3em;box-sizing: border-box;text-align: center;}#sk-container-id-2 label.sk-toggleable__label-arrow:before {content: \"▸\";float: left;margin-right: 0.25em;color: #696969;}#sk-container-id-2 label.sk-toggleable__label-arrow:hover:before {color: black;}#sk-container-id-2 div.sk-estimator:hover label.sk-toggleable__label-arrow:before {color: black;}#sk-container-id-2 div.sk-toggleable__content {max-height: 0;max-width: 0;overflow: hidden;text-align: left;background-color: #f0f8ff;}#sk-container-id-2 div.sk-toggleable__content pre {margin: 0.2em;color: black;border-radius: 0.25em;background-color: #f0f8ff;}#sk-container-id-2 input.sk-toggleable__control:checked~div.sk-toggleable__content {max-height: 200px;max-width: 100%;overflow: auto;}#sk-container-id-2 input.sk-toggleable__control:checked~label.sk-toggleable__label-arrow:before {content: \"▾\";}#sk-container-id-2 div.sk-estimator input.sk-toggleable__control:checked~label.sk-toggleable__label {background-color: #d4ebff;}#sk-container-id-2 div.sk-label input.sk-toggleable__control:checked~label.sk-toggleable__label {background-color: #d4ebff;}#sk-container-id-2 input.sk-hidden--visually {border: 0;clip: rect(1px 1px 1px 1px);clip: rect(1px, 1px, 1px, 1px);height: 1px;margin: -1px;overflow: hidden;padding: 0;position: absolute;width: 1px;}#sk-container-id-2 div.sk-estimator {font-family: monospace;background-color: #f0f8ff;border: 1px dotted black;border-radius: 0.25em;box-sizing: border-box;margin-bottom: 0.5em;}#sk-container-id-2 div.sk-estimator:hover {background-color: #d4ebff;}#sk-container-id-2 div.sk-parallel-item::after {content: \"\";width: 100%;border-bottom: 1px solid gray;flex-grow: 1;}#sk-container-id-2 div.sk-label:hover label.sk-toggleable__label {background-color: #d4ebff;}#sk-container-id-2 div.sk-serial::before {content: \"\";position: absolute;border-left: 1px solid gray;box-sizing: border-box;top: 0;bottom: 0;left: 50%;z-index: 0;}#sk-container-id-2 div.sk-serial {display: flex;flex-direction: column;align-items: center;background-color: white;padding-right: 0.2em;padding-left: 0.2em;position: relative;}#sk-container-id-2 div.sk-item {position: relative;z-index: 1;}#sk-container-id-2 div.sk-parallel {display: flex;align-items: stretch;justify-content: center;background-color: white;position: relative;}#sk-container-id-2 div.sk-item::before, #sk-container-id-2 div.sk-parallel-item::before {content: \"\";position: absolute;border-left: 1px solid gray;box-sizing: border-box;top: 0;bottom: 0;left: 50%;z-index: -1;}#sk-container-id-2 div.sk-parallel-item {display: flex;flex-direction: column;z-index: 1;position: relative;background-color: white;}#sk-container-id-2 div.sk-parallel-item:first-child::after {align-self: flex-end;width: 50%;}#sk-container-id-2 div.sk-parallel-item:last-child::after {align-self: flex-start;width: 50%;}#sk-container-id-2 div.sk-parallel-item:only-child::after {width: 0;}#sk-container-id-2 div.sk-dashed-wrapped {border: 1px dashed gray;margin: 0 0.4em 0.5em 0.4em;box-sizing: border-box;padding-bottom: 0.4em;background-color: white;}#sk-container-id-2 div.sk-label label {font-family: monospace;font-weight: bold;display: inline-block;line-height: 1.2em;}#sk-container-id-2 div.sk-label-container {text-align: center;}#sk-container-id-2 div.sk-container {/* jupyter's `normalize.less` sets `[hidden] { display: none; }` but bootstrap.min.css set `[hidden] { display: none !important; }` so we also need the `!important` here to be able to override the default hidden behavior on the sphinx rendered scikit-learn.org. See: https://github.com/scikit-learn/scikit-learn/issues/21755 */display: inline-block !important;position: relative;}#sk-container-id-2 div.sk-text-repr-fallback {display: none;}</style><div id=\"sk-container-id-2\" class=\"sk-top-container\"><div class=\"sk-text-repr-fallback\"><pre>VotingClassifier(estimators=[(&#x27;rf&#x27;,\n",
       "                              RandomForestClassifier(bootstrap=False,\n",
       "                                                     n_estimators=1000)),\n",
       "                             (&#x27;gb&#x27;,\n",
       "                              GradientBoostingClassifier(max_depth=10,\n",
       "                                                         subsample=0.8)),\n",
       "                             (&#x27;bag&#x27;, BaggingClassifier())])</pre><b>In a Jupyter environment, please rerun this cell to show the HTML representation or trust the notebook. <br />On GitHub, the HTML representation is unable to render, please try loading this page with nbviewer.org.</b></div><div class=\"sk-container\" hidden><div class=\"sk-item sk-dashed-wrapped\"><div class=\"sk-label-container\"><div class=\"sk-label sk-toggleable\"><input class=\"sk-toggleable__control sk-hidden--visually\" id=\"sk-estimator-id-2\" type=\"checkbox\" ><label for=\"sk-estimator-id-2\" class=\"sk-toggleable__label sk-toggleable__label-arrow\">VotingClassifier</label><div class=\"sk-toggleable__content\"><pre>VotingClassifier(estimators=[(&#x27;rf&#x27;,\n",
       "                              RandomForestClassifier(bootstrap=False,\n",
       "                                                     n_estimators=1000)),\n",
       "                             (&#x27;gb&#x27;,\n",
       "                              GradientBoostingClassifier(max_depth=10,\n",
       "                                                         subsample=0.8)),\n",
       "                             (&#x27;bag&#x27;, BaggingClassifier())])</pre></div></div></div><div class=\"sk-parallel\"><div class=\"sk-parallel-item\"><div class=\"sk-item\"><div class=\"sk-label-container\"><div class=\"sk-label sk-toggleable\"><label>rf</label></div></div><div class=\"sk-serial\"><div class=\"sk-item\"><div class=\"sk-estimator sk-toggleable\"><input class=\"sk-toggleable__control sk-hidden--visually\" id=\"sk-estimator-id-3\" type=\"checkbox\" ><label for=\"sk-estimator-id-3\" class=\"sk-toggleable__label sk-toggleable__label-arrow\">RandomForestClassifier</label><div class=\"sk-toggleable__content\"><pre>RandomForestClassifier(bootstrap=False, n_estimators=1000)</pre></div></div></div></div></div></div><div class=\"sk-parallel-item\"><div class=\"sk-item\"><div class=\"sk-label-container\"><div class=\"sk-label sk-toggleable\"><label>gb</label></div></div><div class=\"sk-serial\"><div class=\"sk-item\"><div class=\"sk-estimator sk-toggleable\"><input class=\"sk-toggleable__control sk-hidden--visually\" id=\"sk-estimator-id-4\" type=\"checkbox\" ><label for=\"sk-estimator-id-4\" class=\"sk-toggleable__label sk-toggleable__label-arrow\">GradientBoostingClassifier</label><div class=\"sk-toggleable__content\"><pre>GradientBoostingClassifier(max_depth=10, subsample=0.8)</pre></div></div></div></div></div></div><div class=\"sk-parallel-item\"><div class=\"sk-item\"><div class=\"sk-label-container\"><div class=\"sk-label sk-toggleable\"><label>bag</label></div></div><div class=\"sk-serial\"><div class=\"sk-item\"><div class=\"sk-estimator sk-toggleable\"><input class=\"sk-toggleable__control sk-hidden--visually\" id=\"sk-estimator-id-5\" type=\"checkbox\" ><label for=\"sk-estimator-id-5\" class=\"sk-toggleable__label sk-toggleable__label-arrow\">BaggingClassifier</label><div class=\"sk-toggleable__content\"><pre>BaggingClassifier()</pre></div></div></div></div></div></div></div></div></div></div>"
      ],
      "text/plain": [
       "VotingClassifier(estimators=[('rf',\n",
       "                              RandomForestClassifier(bootstrap=False,\n",
       "                                                     n_estimators=1000)),\n",
       "                             ('gb',\n",
       "                              GradientBoostingClassifier(max_depth=10,\n",
       "                                                         subsample=0.8)),\n",
       "                             ('bag', BaggingClassifier())])"
      ]
     },
     "execution_count": 25,
     "metadata": {},
     "output_type": "execute_result"
    }
   ],
   "source": [
    "vote.fit(X_train,y_train)"
   ]
  },
  {
   "cell_type": "code",
   "execution_count": 26,
   "id": "9ca3fe72",
   "metadata": {},
   "outputs": [],
   "source": [
    "filename = 'final_model.sav'\n",
    "pickle.dump(vote, open(filename, 'wb'))"
   ]
  },
  {
   "cell_type": "code",
   "execution_count": null,
   "id": "3f81d256",
   "metadata": {},
   "outputs": [],
   "source": []
  },
  {
   "cell_type": "code",
   "execution_count": null,
   "id": "bf5bbb8d",
   "metadata": {},
   "outputs": [],
   "source": []
  },
  {
   "cell_type": "code",
   "execution_count": null,
   "id": "5ade1888",
   "metadata": {},
   "outputs": [],
   "source": []
  },
  {
   "cell_type": "code",
   "execution_count": null,
   "id": "d1061f65",
   "metadata": {},
   "outputs": [],
   "source": []
  },
  {
   "cell_type": "code",
   "execution_count": null,
   "id": "2d059361",
   "metadata": {},
   "outputs": [],
   "source": []
  }
 ],
 "metadata": {
  "kernelspec": {
   "display_name": "Python 3 (ipykernel)",
   "language": "python",
   "name": "python3"
  },
  "language_info": {
   "codemirror_mode": {
    "name": "ipython",
    "version": 3
   },
   "file_extension": ".py",
   "mimetype": "text/x-python",
   "name": "python",
   "nbconvert_exporter": "python",
   "pygments_lexer": "ipython3",
   "version": "3.11.8"
  }
 },
 "nbformat": 4,
 "nbformat_minor": 5
}
